{
 "cells": [
  {
   "cell_type": "code",
   "execution_count": null,
   "metadata": {},
   "outputs": [],
   "source": [
    "fonction sousTableau( tab(10) :tableau entier,  a,b:entier): tableau entier\n",
    "    \n",
    "debut\n",
    "    pour i <-- 0 a 9 pas 1 faire:\n",
    "        si i = a alors:\n",
    "            Nsize=indece2 - indece1\n",
    "            N=[]\n",
    "            pour j <-- 0 a NewTableSize pas 1 faire:\n",
    "                redim(N(j+1))\n",
    "                N[j] = tab[i]\n",
    "                i=i+1\n",
    "            return N\n",
    "            fin Pour \n",
    "        fin si \n",
    "    fin pour \n",
    "fin \n",
    "variable\n",
    "i,\n",
    "tableau\n",
    "   tab(10):entier \n",
    "debut\n",
    "pour i <= 0 a 9 faire\n",
    " ecrire(\"entrer un entier\")\n",
    " lire(tab(i))\n",
    "fin Pour \n",
    "ecrire(\"entre les deux indices\")\n",
    "lire(a,b )\n",
    "soustableau(tab,a,b)\n",
    "fin "
   ]
  }
 ],
 "metadata": {
  "language_info": {
   "name": "python"
  }
 },
 "nbformat": 4,
 "nbformat_minor": 2
}
